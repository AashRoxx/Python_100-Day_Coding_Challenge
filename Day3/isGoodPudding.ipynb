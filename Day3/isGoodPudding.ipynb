{
  "nbformat": 4,
  "nbformat_minor": 0,
  "metadata": {
    "colab": {
      "provenance": [],
      "authorship_tag": "ABX9TyMRnv1iXd5SlO8KbpPZHkbN",
      "include_colab_link": true
    },
    "kernelspec": {
      "name": "python3",
      "display_name": "Python 3"
    },
    "language_info": {
      "name": "python"
    }
  },
  "cells": [
    {
      "cell_type": "markdown",
      "metadata": {
        "id": "view-in-github",
        "colab_type": "text"
      },
      "source": [
        "<a href=\"https://colab.research.google.com/github/AashRoxx/Python_100-Day_Coding_Challenge/blob/main/Day3/isGoodPudding.ipynb\" target=\"_parent\"><img src=\"https://colab.research.google.com/assets/colab-badge.svg\" alt=\"Open In Colab\"/></a>"
      ]
    },
    {
      "cell_type": "markdown",
      "source": [
        "**Input Format:**\n",
        "\n",
        "The first line contains a Integer n –  Number of Test Cases\n",
        "The second line contains a Integer‘n’ –  Pudding Number\n",
        "\n",
        "**Output Format**\n",
        "\n",
        "Print a boolean number ‘k’ – “1” (Accepted) and “0” (Reject)\n",
        "\n",
        "**Constraints**\n",
        "\n",
        "0 <= n <= 106\n",
        "\n",
        "**Sample Testcase 1**\n",
        "Testcase Input:\n",
        "\n",
        "1\n",
        "\n",
        "2300\n",
        "\n",
        "Testcase Output:\n",
        "0\n",
        "\n",
        "Explanation:\n",
        "The Reverse of n (2300) is (0032 but we cant take leading zero so the number is 32) which is not same as original number which means it rejected.\n",
        "\n",
        "**Sample Testcase 2**\n",
        "Testcase Input:\n",
        "\n",
        "1\n",
        "\n",
        "2123\n",
        "\n",
        "Testcase Output:\n",
        "1\n",
        "\n",
        "Explanation:\n",
        "The Reverse of n (2123) is (3212) and second reversal is (2123) which is same as original number which means it accepted "
      ],
      "metadata": {
        "id": "ZCJcrn9JQFsF"
      }
    },
    {
      "cell_type": "code",
      "source": [
        "#code1\n",
        "def isGoodPudding(num):\n",
        "    reversed_num = int(str(num)[::-1])\n",
        "    twice_reversed_num = int(str(reversed_num)[::-1])\n",
        "    \n",
        "    return num == twice_reversed_num\n",
        "\n",
        "# Read the number of test cases\n",
        "n = int(input())\n",
        "\n",
        "# Iterate over each test case\n",
        "for _ in range(n):\n",
        "    pudding_num = int(input())\n",
        "    result = isGoodPudding(pudding_num)\n",
        "    print(int(result))"
      ],
      "metadata": {
        "colab": {
          "base_uri": "https://localhost:8080/"
        },
        "id": "pcLjQoo6Qym0",
        "outputId": "e1f88d16-74b4-4210-ad3d-0924bb3b4c46"
      },
      "execution_count": 4,
      "outputs": [
        {
          "output_type": "stream",
          "name": "stdout",
          "text": [
            "1\n",
            "2020\n",
            "0\n"
          ]
        }
      ]
    },
    {
      "cell_type": "code",
      "execution_count": 5,
      "metadata": {
        "colab": {
          "base_uri": "https://localhost:8080/"
        },
        "id": "f53w5SU-PteN",
        "outputId": "e61693ee-7518-4518-ffa9-0ae3a41e47a1"
      },
      "outputs": [
        {
          "output_type": "stream",
          "name": "stdout",
          "text": [
            "1\n",
            "345\n",
            "1\n"
          ]
        }
      ],
      "source": [
        "#code2\n",
        "test = int(input())\n",
        "for _ in range(test):\n",
        "    n = int(input())\n",
        "    if n != 0 and n % 10 == 0:\n",
        "        print(\"0\")\n",
        "    else:\n",
        "        print(\"1\")"
      ]
    }
  ]
}