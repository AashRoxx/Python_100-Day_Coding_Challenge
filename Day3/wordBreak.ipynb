{
  "nbformat": 4,
  "nbformat_minor": 0,
  "metadata": {
    "colab": {
      "provenance": [],
      "authorship_tag": "ABX9TyOkZ3p37IH8Tl98lrFa9eyI",
      "include_colab_link": true
    },
    "kernelspec": {
      "name": "python3",
      "display_name": "Python 3"
    },
    "language_info": {
      "name": "python"
    }
  },
  "cells": [
    {
      "cell_type": "markdown",
      "metadata": {
        "id": "view-in-github",
        "colab_type": "text"
      },
      "source": [
        "<a href=\"https://colab.research.google.com/github/AashRoxx/Python_100-Day_Coding_Challenge/blob/main/Day3/wordBreak.ipynb\" target=\"_parent\"><img src=\"https://colab.research.google.com/assets/colab-badge.svg\" alt=\"Open In Colab\"/></a>"
      ]
    },
    {
      "cell_type": "markdown",
      "source": [
        "**Input Format**\n",
        "\n",
        "The first line contains a string s given by John.\n",
        "\n",
        "The second line contains n, which is the length of the dictionary of strings of Mocha.\n",
        "\n",
        "The following n lines are different strings that are present in the Mocha's Alien dictionary\n",
        "\n",
        "**Output Format**\n",
        "\n",
        "Print \"true\" if the string given by John can be segmented into a sequence of one or more words of Mocha's Alien dictionary.\n",
        "\n",
        "Else, print \"false\".\n",
        "\n",
        "**Constraints**\n",
        "\n",
        "The length of string s given by John is in the range [1,300]\n",
        "The length of Mocha's dictionary, i.e., n, lies in the range [1,1000]\n",
        "The length of string present in Mocha's Alien dictionary lies in the range [1,20]\n",
        "\n",
        "**Sample Testcase 1**\n",
        "\n",
        "Testcase Input\n",
        "\n",
        "applepenapple\n",
        "\n",
        "2\n",
        "\n",
        "apple\n",
        "\n",
        "pen\n",
        "\n",
        "Testcase Output:\n",
        "true\n",
        "\n",
        "Explanation:\n",
        "In the first sample test case, we can make “applepenapple” using the string “apple” and “pen” by concatenation of the strings “apple”+”pen”+”apple”. So print true for this test case.\n",
        "\n",
        "**Sample Testcase 2**\n",
        "Testcase Input:\n",
        "\n",
        "catsandog\n",
        "\n",
        "5\n",
        "\n",
        "cats\n",
        "\n",
        "dog\n",
        "\n",
        "sand\n",
        "\n",
        "and\n",
        "\n",
        "cat\n",
        "\n",
        "Testcase Output:\n",
        "false\n",
        "\n",
        "Explanation:\n",
        "In the second sample test case, we can not make “catsandog” using the string “cat”,”dog”,”sand”,”and” and “cat” at all. So, Print false for this test case."
      ],
      "metadata": {
        "id": "vvqYdvp6XZrg"
      }
    },
    {
      "cell_type": "code",
      "execution_count": 1,
      "metadata": {
        "colab": {
          "base_uri": "https://localhost:8080/"
        },
        "id": "Dw7oytQmXGjC",
        "outputId": "b2d8bda9-751b-4a83-9627-369310f6025d"
      },
      "outputs": [
        {
          "output_type": "stream",
          "name": "stdout",
          "text": [
            "applepenapple\n",
            "2\n",
            "apple\n",
            "pen\n",
            "true\n"
          ]
        }
      ],
      "source": [
        "# The function wordbreak\n",
        "def wordBreak(s, wordDict):\n",
        "    n = len(s)   #length of initial string\n",
        "    dp = [False] * (n + 1) #booloan array initializeed with false\n",
        "    dp[0] = True\n",
        "\n",
        "    for i in range(1, n + 1): \n",
        "        for j in range(i):\n",
        "            if dp[j] and s[j:i] in wordDict:\n",
        "                dp[i] = True\n",
        "                break\n",
        "\n",
        "    return dp[n]\n",
        "\n",
        "\n",
        "# Read the input\n",
        "s = input().strip()\n",
        "n = input().strip()\n",
        "wordDict = []\n",
        "for _ in range(int(n)):\n",
        "    wordDict.append(input().strip())\n",
        "\n",
        "# Check if the string can be segmented\n",
        "if wordBreak(s, wordDict):\n",
        "  print(\"true\")\n",
        "else:\n",
        "  print(\"false\")\n"
      ]
    }
  ]
}