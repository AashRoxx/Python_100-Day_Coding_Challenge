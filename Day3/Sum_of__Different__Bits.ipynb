{
  "nbformat": 4,
  "nbformat_minor": 0,
  "metadata": {
    "colab": {
      "provenance": [],
      "authorship_tag": "ABX9TyNUiJlj8eteLYhICoTOxdz+",
      "include_colab_link": true
    },
    "kernelspec": {
      "name": "python3",
      "display_name": "Python 3"
    },
    "language_info": {
      "name": "python"
    }
  },
  "cells": [
    {
      "cell_type": "markdown",
      "metadata": {
        "id": "view-in-github",
        "colab_type": "text"
      },
      "source": [
        "<a href=\"https://colab.research.google.com/github/AashRoxx/Python_100-Day_Coding_Challenge/blob/main/Day3/Sum_of__Different__Bits.ipynb\" target=\"_parent\"><img src=\"https://colab.research.google.com/assets/colab-badge.svg\" alt=\"Open In Colab\"/></a>"
      ]
    },
    {
      "cell_type": "markdown",
      "source": [
        "James has two binary strings, ‘a’ and ‘b’. He asked Jimmy to find the sum of the number of positions at which the corresponding bits are different between a and all contiguous substrings of b of length of a. Help Jimmy to find the total sum.\n",
        "\n",
        "**Input Format**\n",
        "\n",
        "The firstline of input consists of string a.\n",
        "\n",
        "The second line of input consists string b.\n",
        "\n",
        "**Output Format**\n",
        "\n",
        "Print a single line of output consist of the total sum.\n",
        "\n",
        "**Constraints**\n",
        "\n",
        "1<= a.length , b.length<= 2 * 105\n",
        "\n",
        "**Sample Testcase 1**\n",
        "Testcase Input:\n",
        "\n",
        "01\n",
        "\n",
        "00111\n",
        "\n",
        "Testcase Output:\n",
        "3\n",
        "\n",
        "Explanation:\n",
        "For the first sample case, there are four contiguous substrings of b of length |a|: \"00\", \"01\", \"11\", and \"11\". The distance between \"01\" and \"00\" is |0 - 0| + |1 - 0| = 1. The distance between \"01\" and \"01\" is |0 - 0| + |1 - 1| = 0. The distance between \"01\" and \"11\" is |0 - 1| + |1 - 1| = 1. Last distance counts twice, as there are two occurrences of string \"11\". The sum of these edit distances is 1 + 0 + 1 + 1 = 3.\n",
        "\n",
        "**Sample Testcase 1**\n",
        "Testcase Input:\n",
        "\n",
        "0011\n",
        "\n",
        "0110\n",
        "\n",
        "Testcase Output:\n",
        "2\n",
        "\n",
        "Explanation:\n",
        "The total distance between string \"0011\" and string \"0110\" is |0 - 0| + |0 - 1| + |1 - 1| + |1 - 0| = 0 + 1 + 0 + 1 = 2."
      ],
      "metadata": {
        "id": "5y6ORxJYDDdr"
      }
    },
    {
      "cell_type": "code",
      "execution_count": 1,
      "metadata": {
        "colab": {
          "base_uri": "https://localhost:8080/"
        },
        "id": "DY00AGUe-m6p",
        "outputId": "8bce8f72-c636-41d3-8dd1-8962329ed00e"
      },
      "outputs": [
        {
          "output_type": "stream",
          "name": "stdout",
          "text": [
            "0011\n",
            "0110\n",
            "2\n"
          ]
        }
      ],
      "source": [
        "a= input().strip()\n",
        "b= input().strip()\n",
        "\n",
        "len1 = len(a)\n",
        "len2 = len(b)\n",
        "ones = 0\n",
        "sum = 0\n",
        "diff = len2 - len1 + 1\n",
        "\n",
        "for i in range(diff):\n",
        "    if b[i] == '1':\n",
        "        ones += 1\n",
        "\n",
        "for i in range(len1):\n",
        "    if a[i] == '0':\n",
        "        sum += ones\n",
        "    else:\n",
        "        sum += diff - ones\n",
        "\n",
        "    if i == len1 - 1:\n",
        "        break\n",
        "\n",
        "    if b[i] == '1':\n",
        "        ones -= 1\n",
        "    if b[i + diff] == '1':\n",
        "        ones += 1\n",
        "\n",
        "print(sum)"
      ]
    }
  ]
}