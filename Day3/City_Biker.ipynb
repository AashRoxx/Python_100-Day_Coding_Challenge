{
  "nbformat": 4,
  "nbformat_minor": 0,
  "metadata": {
    "colab": {
      "provenance": [],
      "authorship_tag": "ABX9TyNNQJLXgyoq8zPFkxX7NSC7",
      "include_colab_link": true
    },
    "kernelspec": {
      "name": "python3",
      "display_name": "Python 3"
    },
    "language_info": {
      "name": "python"
    }
  },
  "cells": [
    {
      "cell_type": "markdown",
      "metadata": {
        "id": "view-in-github",
        "colab_type": "text"
      },
      "source": [
        "<a href=\"https://colab.research.google.com/github/AashRoxx/Python_100-Day_Coding_Challenge/blob/main/Day3/City_Biker.ipynb\" target=\"_parent\"><img src=\"https://colab.research.google.com/assets/colab-badge.svg\" alt=\"Open In Colab\"/></a>"
      ]
    },
    {
      "cell_type": "markdown",
      "source": [
        "City biker is on his way on a road trip. The road trip is made up of n + 1 points at various altitudes. The biker begins his journey at point 0 with an altitude of 0 metres.\n",
        "\n",
        "For all  (0 <= I < n), you are given an integer array gain of length n, where gain[i] is the net gain in altitude between points i and i+ 1. Return a point's highest altitude.\n",
        "\n",
        "**Input Format** \n",
        "\n",
        "The first line of the input contains an integer n  - the number of elements.\n",
        "\n",
        "The next  line contains n space-separated integers.\n",
        "\n",
        "**Output Format**\n",
        "\n",
        "City Biker needs to return the highest altitude of a point.\n",
        "\n",
        "**Constraints**\n",
        "\n",
        "n == gain.length\n",
        "\n",
        "1 <= n <= 100\n",
        "\n",
        "-100 <= gain[i] <= 100\n",
        "\n",
        "**Sample Testcase 1**\n",
        "\n",
        "Testcase Input:\n",
        "\n",
        "7\n",
        "\n",
        "-4 -3 -2 -1 4 3 2\n",
        "\n",
        "Testcase Output:\n",
        "0\n",
        "\n",
        "Explanation:\n",
        "The altitudes are [0,-4,-7,-9,-10,-6,-3,-1]. The highest is 0.\n",
        "\n",
        "**Sample Testcase 2**\n",
        "Testcase Input:\n",
        "\n",
        "5\n",
        "\n",
        "-5 1 5 0 -7\n",
        "\n",
        "Testcase Output:\n",
        "1\n",
        "\n",
        "Explanation:\n",
        " The altitudes are [5, -5, 1, 5, 0, -7]. The highest is 1."
      ],
      "metadata": {
        "id": "XfyeTw9Co2_y"
      }
    },
    {
      "cell_type": "code",
      "execution_count": 1,
      "metadata": {
        "colab": {
          "base_uri": "https://localhost:8080/"
        },
        "id": "RVjI7Airo1Rv",
        "outputId": "9fb065d5-55d6-4a7c-ff52-54a2c5d5ba5b"
      },
      "outputs": [
        {
          "output_type": "stream",
          "name": "stdout",
          "text": [
            "5\n",
            "-5 1 5 0 -7\n",
            "1\n"
          ]
        }
      ],
      "source": [
        "n=int(input())\n",
        "arr =list(map(int, input().split()))\n",
        "res = [sum(arr[ : i + 1]) for i in range(n)]#prefixsum\n",
        "res.insert(0,0)#inserting a 0 for starting point\n",
        "l=len(res)\n",
        "max=res[0]\n",
        "for i in range(l):\n",
        "  if res[i]>max:\n",
        "    max=res[i]\n",
        "print(max)"
      ]
    }
  ]
}