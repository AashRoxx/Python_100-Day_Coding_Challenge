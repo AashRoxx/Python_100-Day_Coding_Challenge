{
  "nbformat": 4,
  "nbformat_minor": 0,
  "metadata": {
    "colab": {
      "provenance": [],
      "authorship_tag": "ABX9TyMYP8DNeUQj+0JGhcZiGSxt",
      "include_colab_link": true
    },
    "kernelspec": {
      "name": "python3",
      "display_name": "Python 3"
    },
    "language_info": {
      "name": "python"
    }
  },
  "cells": [
    {
      "cell_type": "markdown",
      "metadata": {
        "id": "view-in-github",
        "colab_type": "text"
      },
      "source": [
        "<a href=\"https://colab.research.google.com/github/AashRoxx/Python_100-Day_Coding_Challenge/blob/main/Day1/find_kth_unique_string.ipynb\" target=\"_parent\"><img src=\"https://colab.research.google.com/assets/colab-badge.svg\" alt=\"Open In Colab\"/></a>"
      ]
    },
    {
      "cell_type": "markdown",
      "source": [
        "You are provided with a collection of n strings in which some strings are of repeating nature but you have been given a number k. Your task is to find the kth unique string. If there are fewer unique strings than k return empty string. \n",
        "\n",
        "**Input Format:**\n",
        "The first line contains an integer n denoting the number of strings.\n",
        "The next n lines contain strings.\n",
        "The next line contains an integer k.\n",
        "\n",
        "**Output Format:**\n",
        "The output contains the kth distinct string.\n",
        "\n",
        "**Constraints**\n",
        "\n",
        "1<=n<=105\n",
        "\n",
        "-100<=arr[i]<=100\n",
        "\n",
        "**Sample Testcase 1**\n",
        "\n",
        "Testcase Input:\n",
        "\n",
        "6\n",
        "\n",
        "d\n",
        "\n",
        "b\n",
        "\n",
        "c\n",
        "\n",
        "b\n",
        "\n",
        "c\n",
        "\n",
        "a\n",
        "\n",
        "2\n",
        "\n",
        "Testcase Output:\n",
        "\n",
        "a\n",
        "\n",
        "Explanation:\n",
        "\n",
        "The only strings in arr that are distinct are \"d\" and \"a.\"\n",
        "The letter \"d\" comes first, making it the first separate string.\n",
        "Because \"a\" appears second, it is the second distinct string.\n",
        "\"a\" is returned since k == 2.\n"
      ],
      "metadata": {
        "id": "qj6RV-vzMZxN"
      }
    },
    {
      "cell_type": "code",
      "execution_count": 2,
      "metadata": {
        "colab": {
          "base_uri": "https://localhost:8080/"
        },
        "id": "dYdGewEFJ286",
        "outputId": "ad25382e-1117-4c12-ff2f-cc76fde99477"
      },
      "outputs": [
        {
          "output_type": "stream",
          "name": "stdout",
          "text": [
            "6\n",
            "a\n",
            "l\n",
            "k\n",
            "a\n",
            "f\n",
            "t\n",
            "3\n",
            "Answer: f\n"
          ]
        }
      ],
      "source": [
        "def find_kth_unique_string(n, strings, k):\n",
        "  unique=[]\n",
        "  not_unique=[]\n",
        "  for i in strings:\n",
        "    if i not in unique:\n",
        "      unique.append(i)\n",
        "    else:\n",
        "      not_unique.append(i)\n",
        "  for i in not_unique:\n",
        "    unique.remove(i)\n",
        "  if k>len(unique):\n",
        "    return \"\"\n",
        "  else:\n",
        "    return unique[k-1]\n",
        "\n",
        "\n",
        "# Read the input\n",
        "n = int(input())\n",
        "strings = [input() for i in range(n)]\n",
        "k = int(input())\n",
        "\n",
        "# Call the function and print the result\n",
        "result = find_kth_unique_string(n, strings, k)\n",
        "print(\"Answer:\",result)"
      ]
    }
  ]
}