{
  "nbformat": 4,
  "nbformat_minor": 0,
  "metadata": {
    "colab": {
      "provenance": [],
      "authorship_tag": "ABX9TyPsfODPgcOMKvNuudmluo4L",
      "include_colab_link": true
    },
    "kernelspec": {
      "name": "python3",
      "display_name": "Python 3"
    },
    "language_info": {
      "name": "python"
    }
  },
  "cells": [
    {
      "cell_type": "markdown",
      "metadata": {
        "id": "view-in-github",
        "colab_type": "text"
      },
      "source": [
        "<a href=\"https://colab.research.google.com/github/AashRoxx/Python_100-Day_Coding_Challenge/blob/main/Day1/minimumDifficulty.ipynb\" target=\"_parent\"><img src=\"https://colab.research.google.com/assets/colab-badge.svg\" alt=\"Open In Colab\"/></a>"
      ]
    },
    {
      "cell_type": "markdown",
      "source": [
        "There are n tasks and d days to complete those tasks. The difficulty of each task is represented by jobs[i] ( 0<=i<=n ).You have to use all the days to complete the tasks (each day at least one task should be done).\n",
        "The difficulty he faced during the completion of the task is determined by the sum of the difficulty of each day.The difficulty of a day is the maximum difficulty of the tasks done on that day.\n",
        "\n",
        "Note: Since all tasks are dependent, to work on the ith task, you have to finish all the jobs j where 0<=j<i.\n",
        "\n",
        "You are given an array taskdifficulty and an integer d, the difficulty of ith task is jobs[i].\n",
        "\n",
        "Return the minimum difficulty Simon faces during completion of all tasks. If the scheduling of tasks is not possible return -1.\n",
        "\n",
        "**Input Format:**\n",
        "\n",
        "The first line contains an integer n, size of the array.\n",
        "\n",
        "The second line contains n space separated integers representing the array arr[i].\n",
        "\n",
        "The last line contains an integer d, denoting the number of days.\n",
        "\n",
        "**Output Format**\n",
        "\n",
        "Print a single integer mindifficulty– the minimum difficulty simon faces to schedule all tasks.\n",
        "\n",
        "**Constraints**\n",
        "\n",
        "1 <= n <= 300.\n",
        "\n",
        "0<= arr[i] <= 1000.\n",
        "\n",
        "1<= d<=10\n",
        "\n",
        "**Sample Testcase 1**\n",
        "\n",
        "Testcase Input:\n",
        "\n",
        "3\n",
        "\n",
        "9 9 9\n",
        "\n",
        "4\n",
        "\n",
        "Testcase Output:\n",
        "\n",
        "-1\n",
        "\n",
        "Explanation:\n",
        "If you finish a job per day you will still have a free day. you cannot find a schedule for the given jobs.\n",
        "\n",
        "**Sample Testcase 2**\n",
        "\n",
        "Testcase Input:\n",
        "\n",
        "6\n",
        "\n",
        "6 5 4 3 2 1\n",
        "\n",
        "2\n",
        "\n",
        "Testcase Output:\n",
        "\n",
        "7\n",
        "\n",
        "Explanation:\n",
        "First day you can finish the first 5 jobs, total difficulty = 6.\n",
        "Second day you can finish the last job, total difficulty = 1.\n",
        "The difficulty of the schedule = 6 + 1 = 7"
      ],
      "metadata": {
        "id": "IYBpFeO97hZi"
      }
    },
    {
      "cell_type": "code",
      "execution_count": 1,
      "metadata": {
        "id": "YldGi8Eaeq1R",
        "colab": {
          "base_uri": "https://localhost:8080/"
        },
        "outputId": "ada7a1d8-9634-4fdb-e6b3-4ccfecfe7197"
      },
      "outputs": [
        {
          "output_type": "stream",
          "name": "stdout",
          "text": [
            "6\n",
            "6 5 4 3 2 1\n",
            "2\n",
            "7\n"
          ]
        }
      ],
      "source": [
        "def minimumDifficulty(n, taskdifficulty, d):\n",
        "    dp = [[float('inf')] * (d+1) for _ in range(n+1)]\n",
        "    dp[0][0] = 0\n",
        "\n",
        "    for i in range(1, n+1):\n",
        "        for day in range(1, d+1):\n",
        "            max_difficulty = 0\n",
        "            for j in range(i-1, -1, -1):\n",
        "                max_difficulty = max(max_difficulty, taskdifficulty[j])\n",
        "                if dp[j][day-1] != float('inf'):\n",
        "                    dp[i][day] = min(dp[i][day], dp[j][day-1] + max_difficulty)\n",
        "    \n",
        "    if dp[n][d] == float('inf'):\n",
        "        return -1\n",
        "    \n",
        "    return dp[n][d]\n",
        "\n",
        "# Read the input\n",
        "n = int(input())\n",
        "taskdifficulty = list(map(int, input().split()))\n",
        "d = int(input())\n",
        "\n",
        "# Calculate and print the minimum difficulty\n",
        "mindifficulty = minimumDifficulty(n, taskdifficulty, d)\n",
        "print(mindifficulty)\n"
      ]
    }
  ]
}