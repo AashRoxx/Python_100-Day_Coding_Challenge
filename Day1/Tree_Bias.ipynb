{
  "nbformat": 4,
  "nbformat_minor": 0,
  "metadata": {
    "colab": {
      "provenance": [],
      "authorship_tag": "ABX9TyN4MU2LQeyEIn3VEgcRbk0w",
      "include_colab_link": true
    },
    "kernelspec": {
      "name": "python3",
      "display_name": "Python 3"
    },
    "language_info": {
      "name": "python"
    }
  },
  "cells": [
    {
      "cell_type": "markdown",
      "metadata": {
        "id": "view-in-github",
        "colab_type": "text"
      },
      "source": [
        "<a href=\"https://colab.research.google.com/github/AashRoxx/Python_100-Day_Coding_Challenge/blob/main/Day1/Tree_Bias.ipynb\" target=\"_parent\"><img src=\"https://colab.research.google.com/assets/colab-badge.svg\" alt=\"Open In Colab\"/></a>"
      ]
    },
    {
      "cell_type": "markdown",
      "source": [
        "Calculate the bias of the tree.\n",
        "The bias was defined as the sum of the depths of all tree nodes. Consider node with value 1 as the root of the tree and consider the depth of the root node as 0.\n",
        "\n",
        "**Input Format**\n",
        "\n",
        "The first line contains n the number of nodes in the tree. The nodes are numbered from 1 to n.\n",
        "\n",
        "The following n-1 lines contain two numbers, a and b, denoting that there is an edge between a and b\n",
        "\n",
        "**Output Format**\n",
        "\n",
        "Print the bias of the tree.\n",
        "\n",
        "Constraints\n",
        "\n",
        "1<=n<=105\n",
        "\n",
        "1<=a<=n\n",
        "\n",
        "1<=b<=n\n",
        "\n",
        "**Sample Testcase 1**\n",
        "\n",
        "Testcase Input:\n",
        "\n",
        "7\n",
        "\n",
        "1 2 \n",
        "\n",
        "2 4 \n",
        "\n",
        "2 3 \n",
        "\n",
        "1 7 \n",
        "\n",
        "7 6\n",
        "\n",
        "7 5\n",
        "\n",
        "Testcase Output:\n",
        "\n",
        "10\n",
        "\n",
        "Explanation:\n",
        "\n",
        "The depths of each of the nodes of the tree are : \n",
        "\n",
        "For node 1 : 0\n",
        "\n",
        "For node 2: 1\n",
        "\n",
        "For node 3: 2\n",
        "\n",
        "For node 4: 2\n",
        "\n",
        "For node 5: 2\n",
        "\n",
        "For node 6: 2\n",
        "\n",
        "For node 7: 1\n",
        "\n",
        "Therefore the bias of the tree is the sum of all depths of the tree = 0 + 1 + 2 + 2 + 2 + 2 + 1 = 10\n",
        "\n",
        "**Sample Testcase 2**\n",
        "\n",
        "Testcase Input:\n",
        "\n",
        "4\n",
        "\n",
        "1 2 \n",
        "\n",
        "2 3 \n",
        "\n",
        "3 4\n",
        "\n",
        "Testcase Output:\n",
        "\n",
        "6\n",
        "\n",
        "Explanation:\n",
        "\n",
        "The depths of each node of the tree : \n",
        "\n",
        "For node 1 : 0\n",
        "\n",
        "For node 2: 1\n",
        "\n",
        "For node 3: 2\n",
        "\n",
        "For node 4: 3\n",
        "\n",
        "Therefore bias of the tree is : 0 + 1 + 2 + 3 = 6\n",
        "\n"
      ],
      "metadata": {
        "id": "oPyvqBfURcv3"
      }
    },
    {
      "cell_type": "code",
      "execution_count": 6,
      "metadata": {
        "colab": {
          "base_uri": "https://localhost:8080/"
        },
        "id": "2q0mQZM2RXHg",
        "outputId": "50531965-df71-4d6a-b408-cace73c3a3c0"
      },
      "outputs": [
        {
          "output_type": "stream",
          "name": "stdout",
          "text": [
            "4\n",
            "1 2\n",
            "2 3\n",
            "3 4\n",
            "6\n"
          ]
        }
      ],
      "source": [
        "# Read the input\n",
        "N=int(input())\n",
        "list1={i:[] for i in range(1,N+1)}\n",
        "for i in range(N-1):\n",
        "    l1,l2=tuple(map(int,input().split()))\n",
        "    list1[l1].append(l2)\n",
        "    list1[l2].append(l1)\n",
        "\n",
        "# Initilaizing variables\n",
        "list2=[]\n",
        "visited=set()\n",
        "answer=0\n",
        "# Bias of each node in tree\n",
        "depth=0 \n",
        "\n",
        "# Adding one in set and list2 to countout the root node \n",
        "visited.add(1)\n",
        "list2.append(1)\n",
        "\n",
        "# for loop no1 checks whether after poping the elements in list 2 if no elements are left \n",
        "#indicating that its depth is one.\n",
        "# for loop no2 checks if the node is visited or not and if it isint then its added to visited set.\n",
        "while list2:\n",
        "    l=len(list2)\n",
        "    for i in range(l): \n",
        "        node=list2.pop(0)\n",
        "        answer+=depth\n",
        "        for x in list1[node]: \n",
        "            if x not in visited:\n",
        "                list2.append(x)\n",
        "                visited.add(x)\n",
        "    depth+=1\n",
        "print(answer)"
      ]
    }
  ]
}