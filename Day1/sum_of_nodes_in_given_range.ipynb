{
  "nbformat": 4,
  "nbformat_minor": 0,
  "metadata": {
    "colab": {
      "provenance": [],
      "authorship_tag": "ABX9TyMAXgdvJf51MZWnLetyulFK",
      "include_colab_link": true
    },
    "kernelspec": {
      "name": "python3",
      "display_name": "Python 3"
    },
    "language_info": {
      "name": "python"
    }
  },
  "cells": [
    {
      "cell_type": "markdown",
      "metadata": {
        "id": "view-in-github",
        "colab_type": "text"
      },
      "source": [
        "<a href=\"https://colab.research.google.com/github/AashRoxx/Python_100-Day_Coding_Challenge/blob/main/Day1/sum_of_nodes_in_given_range.ipynb\" target=\"_parent\"><img src=\"https://colab.research.google.com/assets/colab-badge.svg\" alt=\"Open In Colab\"/></a>"
      ]
    },
    {
      "cell_type": "markdown",
      "source": [
        "**Problem Statement**\n",
        "\n",
        "You are given the root of the Binary Search Tree. You are also provided integers start and end. You have to return the sum of all the nodes that lie in the inclusive range of start and end. All the values in the tree are unique.\n",
        "\n",
        "**Input Format**\n",
        "\n",
        "First line No of Nodes of Binary Search Tree.\n",
        "\n",
        "Second line contains the Nodes of Binary Search Tree.\n",
        "\n",
        "Third line contains two integers start and end respectively.\n",
        "\n",
        "**Output Format**\n",
        "\n",
        "Single integer that represents the sum of Node’s value in the inclusive range of start and end.\n",
        "\n",
        "**Constraints**\n",
        "\n",
        "1<=No. Of Nodes <=1000\n",
        "\n",
        "1<=Node’s value <=100000\n",
        "\n",
        "1<=start < end<=100000\n",
        "\n",
        "**Sample Testcase 1**\n",
        "\n",
        "Testcase Input:\n",
        "\n",
        "3\n",
        "\n",
        "0 5 6 \n",
        "\n",
        "1 2\n",
        "\n",
        "Testcase Output:\n",
        "\n",
        "0\n",
        "\n",
        "Explanation:\n",
        "There is no Node whose value lies in the range 1 and 2 inclusive.\n",
        "\n",
        "**Sample Testcase 2**\n",
        "\n",
        "Testcase Input:\n",
        "\n",
        "6\n",
        "\n",
        "5 8 10 9 6 0 \n",
        "\n",
        "3 9\n",
        "\n",
        "Testcase Output:\n",
        "\n",
        "28\n",
        "\n",
        "Explanation:\n",
        "5 8 9 6 are the Node’s value which lies in  the range 3 to 9 inclusive .\n",
        "5+8+9+6=28"
      ],
      "metadata": {
        "id": "grQs8WcYBoxE"
      }
    },
    {
      "cell_type": "code",
      "execution_count": 1,
      "metadata": {
        "colab": {
          "base_uri": "https://localhost:8080/"
        },
        "id": "9ToYhb6EBg-b",
        "outputId": "87930a83-5de3-4932-95c9-baf54eb72819"
      },
      "outputs": [
        {
          "output_type": "stream",
          "name": "stdout",
          "text": [
            "3\n",
            "0 5 6\n",
            "1 2\n",
            "0\n"
          ]
        }
      ],
      "source": [
        "def sum_of_nodes_in_given_range(list1,start,end):\n",
        "\n",
        "  sum=0\n",
        "  for j in list1:\n",
        "    if j>=start and j<=end:\n",
        "      sum+=j\n",
        "      continue\n",
        "      \n",
        "  return sum\n",
        "\n",
        "# Read the input\n",
        "no_of_node=int(input())\n",
        "list1=list(map(int, input().split()))\n",
        "start, end = map(int, input().split())\n",
        "\n",
        "# Call the function and print the result\n",
        "result=sum_of_nodes_in_given_range(list1,start,end)\n",
        "print(result)"
      ]
    }
  ]
}