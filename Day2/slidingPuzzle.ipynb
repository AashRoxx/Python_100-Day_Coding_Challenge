{
  "nbformat": 4,
  "nbformat_minor": 0,
  "metadata": {
    "colab": {
      "provenance": [],
      "authorship_tag": "ABX9TyOVMVqtlSMLFxevetWUX5oy",
      "include_colab_link": true
    },
    "kernelspec": {
      "name": "python3",
      "display_name": "Python 3"
    },
    "language_info": {
      "name": "python"
    }
  },
  "cells": [
    {
      "cell_type": "markdown",
      "metadata": {
        "id": "view-in-github",
        "colab_type": "text"
      },
      "source": [
        "<a href=\"https://colab.research.google.com/github/AashRoxx/Python_100-Day_Coding_Challenge/blob/main/Day2/slidingPuzzle.ipynb\" target=\"_parent\"><img src=\"https://colab.research.google.com/assets/colab-badge.svg\" alt=\"Open In Colab\"/></a>"
      ]
    },
    {
      "cell_type": "markdown",
      "source": [
        "On a 2 x 3 board, there are five tiles labeled from 1 to 5, and an empty square represented by 0. A move consists of choosing 0 and a 4 directionally adjacent number and swapping it.\n",
        "Given the puzzle board, print the least number of moves required so that the state of the board is solved. If it is impossible for the state of the board to be solved, print -1.\n",
        "\n",
        "solved state is : {{1,2,3},{4,5,0}}\n",
        "\n",
        "\n",
        "**Example 1:**\n",
        "\n",
        "Input: board = [[1,2,3],[4,0,5]]\n",
        "\n",
        "Output: 1\n",
        "\n",
        "Explanation: Swap the 0 and the 5 in one move.\n",
        "\n",
        " \n",
        "**Example 2:**\n",
        "\n",
        "Input: board = [[1,2,3],[5,4,0]]\n",
        "\n",
        "Output: -1\n",
        "\n",
        "Explanation: No number of moves will make the board solve.\n",
        "\n",
        " \n",
        "**Example 3:**\n",
        "\n",
        "Input: board = [[4,1,2],[5,0,3]]\n",
        "\n",
        "Output: 5\n",
        "\n",
        "Explanation: 5 is the smallest number of moves that solves the board.\n",
        "\n",
        "An example path:\n",
        "\n",
        "After move 0: [[4,1,2],[5,0,3]]\n",
        "\n",
        "After move 1: [[4,1,2],[0,5,3]]\n",
        "\n",
        "After move 2: [[0,1,2],[4,5,3]]\n",
        "\n",
        "After move 3: [[1,0,2],[4,5,3]]\n",
        "\n",
        "After move 4: [[1,2,0],[4,5,3]]\n",
        "\n",
        "After move 5: [[1,2,3],[4,5,0]]\n",
        "\n",
        "**Input Format**\n",
        "\n",
        "Each of the next 2 lines contains 3 integers.\n",
        "\n",
        "**Output Format**\n",
        "\n",
        "Minimum number of moves required to achieve a solved \n",
        "state.\n",
        "\n",
        "**Constraints**\n",
        "\n",
        "board.length == 2\n",
        "\n",
        "board[i].length == 3\n",
        "\n",
        "0 <= board[i][j] <= 5\n",
        "\n",
        "Each value board[i][j] is unique\n",
        "\n"
      ],
      "metadata": {
        "id": "MEu7__HoBtRs"
      }
    },
    {
      "cell_type": "code",
      "execution_count": 1,
      "metadata": {
        "colab": {
          "base_uri": "https://localhost:8080/"
        },
        "id": "O5419N_hBe6t",
        "outputId": "cd7b4e47-cf27-4510-979a-a213b1c31c2c"
      },
      "outputs": [
        {
          "output_type": "stream",
          "name": "stdout",
          "text": [
            "4 1 2\n",
            "5 0  3\n",
            "5\n"
          ]
        }
      ],
      "source": [
        "from typing import List\n",
        "\n",
        "def slidingPuzzle(board: List[List[int]]) -> int:\n",
        "    # Define the target state\n",
        "    target = [[1, 2, 3], [4, 5, 0]]\n",
        "    \n",
        "    # Convert the board into a string for easier manipulation\n",
        "    board_str = ''.join(str(num) for row in board for num in row)\n",
        "    \n",
        "    # Define the 4 possible directions: left, right, up, down\n",
        "    directions = [(1, 0), (-1, 0), (0, 1), (0, -1)]\n",
        "    \n",
        "    # Initialize a queue for BFS traversal\n",
        "    queue = [(board_str, 0)]\n",
        "    \n",
        "    # Set to store visited states\n",
        "    visited = set()\n",
        "    \n",
        "    while queue:\n",
        "        state, moves = queue.pop(0)\n",
        "        visited.add(state)\n",
        "        \n",
        "        # If the current state is the target state, return the number of moves\n",
        "        if state == '123450':\n",
        "            return moves\n",
        "        \n",
        "        # Find the index of the empty square (0)\n",
        "        zero_index = state.index('0')\n",
        "        x, y = zero_index // 3, zero_index % 3\n",
        "        \n",
        "        # Generate the possible next states by swapping the empty square with adjacent numbers\n",
        "        for dx, dy in directions:\n",
        "            nx, ny = x + dx, y + dy\n",
        "            \n",
        "            if 0 <= nx < 2 and 0 <= ny < 3:\n",
        "                new_state = list(state)\n",
        "                new_index = nx * 3 + ny\n",
        "                \n",
        "                # Swap the empty square with the adjacent number\n",
        "                new_state[zero_index], new_state[new_index] = new_state[new_index], new_state[zero_index]\n",
        "                new_state_str = ''.join(new_state)\n",
        "                \n",
        "                # If the new state is not visited, add it to the queue\n",
        "                if new_state_str not in visited:\n",
        "                    queue.append((new_state_str, moves + 1))\n",
        "    \n",
        "    # If the target state is not reached, it is impossible to solve the board\n",
        "    return -1\n",
        "\n",
        "\n",
        "board = []\n",
        "for i in range(2):\n",
        "    data = [int(x) for x in input().split()]\n",
        "    board.append(data)\n",
        "print(slidingPuzzle(board))"
      ]
    }
  ]
}