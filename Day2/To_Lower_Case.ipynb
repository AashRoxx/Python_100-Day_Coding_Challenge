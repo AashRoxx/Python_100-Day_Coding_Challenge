{
  "nbformat": 4,
  "nbformat_minor": 0,
  "metadata": {
    "colab": {
      "provenance": [],
      "authorship_tag": "ABX9TyMvzeogKoLnPkeCFUM5OMDI",
      "include_colab_link": true
    },
    "kernelspec": {
      "name": "python3",
      "display_name": "Python 3"
    },
    "language_info": {
      "name": "python"
    }
  },
  "cells": [
    {
      "cell_type": "markdown",
      "metadata": {
        "id": "view-in-github",
        "colab_type": "text"
      },
      "source": [
        "<a href=\"https://colab.research.google.com/github/AashRoxx/Python_100-Day_Coding_Challenge/blob/main/Day2/To_Lower_Case.ipynb\" target=\"_parent\"><img src=\"https://colab.research.google.com/assets/colab-badge.svg\" alt=\"Open In Colab\"/></a>"
      ]
    },
    {
      "cell_type": "markdown",
      "source": [
        "Convert all words in lowercase.\n",
        "\n",
        "**Input Format**\n",
        "\n",
        "The first line contains the string word.\n",
        "\n",
        "**Output Format**\n",
        "\n",
        "The first line contains the string ‘lowercase_word’.\n",
        "\n",
        "**Constraints**\n",
        "\n",
        "1 <= word.length <= 10^5\n",
        "\n",
        "Word consists of lower case and upper case alphabets only.\n",
        "\n",
        "**Sample Testcase 1**\n",
        "\n",
        "Testcase Input:\n",
        "\n",
        "Hello\n",
        "\n",
        "Testcase Output:\n",
        "\n",
        "hello\t\n",
        "\n",
        "Explanation:\n",
        "‘H’ in ‘Hello’ is converted to ‘h’ in the input given.\n",
        "\n",
        "**Sample Testcase 2**\n",
        "\n",
        "Testcase Input:\n",
        "\n",
        "here\n",
        "\n",
        "Testcase Output:\n",
        "\n",
        "here\n",
        "\n",
        "Explanation:\n",
        "There is no upper-case character present in the input given. Hence, the output remains the same."
      ],
      "metadata": {
        "id": "lOdItKuTD7_9"
      }
    },
    {
      "cell_type": "code",
      "execution_count": 1,
      "metadata": {
        "colab": {
          "base_uri": "https://localhost:8080/"
        },
        "id": "yn-iM4-YC_Tp",
        "outputId": "4e919689-1696-420b-d2aa-3ab5ed06e003"
      },
      "outputs": [
        {
          "output_type": "stream",
          "name": "stdout",
          "text": [
            "Hello\n",
            "hello\n"
          ]
        }
      ],
      "source": [
        "def To_Lower_Case(string_word):\n",
        "  return string_word.lower()\n",
        "\n",
        "string_word=input()\n",
        "print(To_Lower_Case(string_word))"
      ]
    }
  ]
}