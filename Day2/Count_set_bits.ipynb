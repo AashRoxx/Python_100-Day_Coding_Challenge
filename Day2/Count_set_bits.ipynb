{
  "nbformat": 4,
  "nbformat_minor": 0,
  "metadata": {
    "colab": {
      "provenance": [],
      "authorship_tag": "ABX9TyPLTvH+BgpA0LXt3RaebCJ1",
      "include_colab_link": true
    },
    "kernelspec": {
      "name": "python3",
      "display_name": "Python 3"
    },
    "language_info": {
      "name": "python"
    }
  },
  "cells": [
    {
      "cell_type": "markdown",
      "metadata": {
        "id": "view-in-github",
        "colab_type": "text"
      },
      "source": [
        "<a href=\"https://colab.research.google.com/github/AashRoxx/Python_100-Day_Coding_Challenge/blob/main/Day2/Count_set_bits.ipynb\" target=\"_parent\"><img src=\"https://colab.research.google.com/assets/colab-badge.svg\" alt=\"Open In Colab\"/></a>"
      ]
    },
    {
      "cell_type": "markdown",
      "source": [
        "Calculate the total number of set bits in every number from 1 to N.\n",
        "\n",
        "**Input Format**\n",
        "\n",
        "Each Input has One line which contains an integer N.\n",
        "\n",
        "**Output Format**\n",
        "\n",
        "Return a Double data type number which is the median of two arrays.\n",
        "\n",
        "**Constraints**\n",
        "\n",
        "0 < N<= 10^7\n",
        "\n",
        "**Sample Testcase 1**\n",
        "\n",
        "Testcase Input:\n",
        "5\n",
        "\n",
        "Testcase Output:\n",
        "7\n",
        "\n",
        "Explanation:\n",
        "\n",
        "Let input N = 5\n",
        "\n",
        "Then we have to count total set bits in digit 1 to 5\n",
        "\n",
        "for (1) => (0001), set bits = 1\n",
        "\n",
        "for (2) => (0010), set bits = 1\n",
        "\n",
        "for (3) => (0011), set bits = 2\n",
        "\n",
        "for (4) => (0100), set bits = 1\n",
        "\n",
        "for (5) => (0101), set bits = 2\n",
        "\n",
        "Total set bits = 7\n",
        "\n",
        "Therefore, for N = 5, result is 7\n",
        "\n",
        "**Sample Testcase 2**\n",
        "\n",
        "Testcase Input: 4\n",
        "\n",
        "Testcase Output: 5\n",
        "\n",
        "Explanation:\n",
        "\n",
        "for (1) => (0001), set bits = 1\n",
        "\n",
        "for (2) => (0010), set bits = 1\n",
        "\n",
        "for (3) => (0011), set bits = 2\n",
        "\n",
        "for (4) => (0100), set bits = 1\n",
        "\n",
        "Total set bits = 5\n",
        "\n",
        "Therefore, for N = 4, result is 5"
      ],
      "metadata": {
        "id": "vrCv04_UuYZy"
      }
    },
    {
      "cell_type": "code",
      "execution_count": 1,
      "metadata": {
        "colab": {
          "base_uri": "https://localhost:8080/"
        },
        "id": "3QHunexcuTzq",
        "outputId": "d0c23691-690d-4ad8-f854-ada265a7384a"
      },
      "outputs": [
        {
          "output_type": "stream",
          "name": "stdout",
          "text": [
            "5\n",
            "7\n"
          ]
        }
      ],
      "source": [
        "def Count_set_bits(N):\n",
        "\n",
        "  Tot_set_bits=0\n",
        "  for j in range(N+1):\n",
        "    bit=str(bin(j)[2:])\n",
        "\n",
        "    for i in bit:\n",
        "      if i=='1':\n",
        "        Tot_set_bits+=1\n",
        "\n",
        "  return Tot_set_bits\n",
        "  \n",
        "N=int(input())\n",
        "Result=Count_set_bits(N)\n",
        "print(Result)"
      ]
    }
  ]
}