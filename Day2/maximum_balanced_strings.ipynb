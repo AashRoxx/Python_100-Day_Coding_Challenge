{
  "nbformat": 4,
  "nbformat_minor": 0,
  "metadata": {
    "colab": {
      "provenance": [],
      "authorship_tag": "ABX9TyOIHPmW/OqHaHAX7bsh7FR0",
      "include_colab_link": true
    },
    "kernelspec": {
      "name": "python3",
      "display_name": "Python 3"
    },
    "language_info": {
      "name": "python"
    }
  },
  "cells": [
    {
      "cell_type": "markdown",
      "metadata": {
        "id": "view-in-github",
        "colab_type": "text"
      },
      "source": [
        "<a href=\"https://colab.research.google.com/github/AashRoxx/Python_100-Day_Coding_Challenge/blob/main/Day2/maximum_balanced_strings.ipynb\" target=\"_parent\"><img src=\"https://colab.research.google.com/assets/colab-badge.svg\" alt=\"Open In Colab\"/></a>"
      ]
    },
    {
      "cell_type": "markdown",
      "source": [
        " Balanced strings are those that have an equal quantity of 'L' and 'R' characters.\n",
        "\n",
        "Given a balanced string s, split it in the maximum amount of balanced strings and encapsulate them in ‘(’ and ‘)’. For example RRLL is balanced so you have to return “(RRLL)”.\n",
        "\n",
        "Return the string such that maximum amount of balanced encapsulated strings are there.\n",
        "\n",
        "**Input Format**\n",
        "\n",
        "Each Input has one line the string s which is a balanced string.\n",
        "\n",
        "**Output Format**\n",
        "\n",
        " return a string which is the enigma’s interpretation of the command.\n",
        "\n",
        "**Constraints**\n",
        "\n",
        "0<s.length<=2*10^6\n",
        " \n",
        "\n",
        "Sample Testcase 1\n",
        "\n",
        "Testcase Input:\n",
        "RLRRLLRLRL\n",
        "\n",
        "Testcase Output:\n",
        "(RL)(RRLL)(RL)(RL)\n",
        "\n",
        "Explanation:\n",
        "s can be split into \"RL\", \"RRLL\", \"RL\", \"RL\", each substring contains same number of 'L' and 'R'.\n",
        "\n",
        "Sample Testcase 2\n",
        "\n",
        "Testcase Input:c\n",
        "RLLLLRRRLR\n",
        "\n",
        "Testcase Output:\n",
        "(RL)(LLLRRR)(LR)\n",
        "\n",
        "Explanation:\n",
        " s can be split into \"RL\", \"LLLRRR\", \"LR\", each substring contains same number of 'L' and 'R'.\n"
      ],
      "metadata": {
        "id": "P50FKRkPT_f0"
      }
    },
    {
      "cell_type": "code",
      "execution_count": 1,
      "metadata": {
        "colab": {
          "base_uri": "https://localhost:8080/"
        },
        "id": "v9EgYQMcTt58",
        "outputId": "65095e43-0eaf-406b-907a-d41ceb1bea32"
      },
      "outputs": [
        {
          "output_type": "stream",
          "name": "stdout",
          "text": [
            "RLRLLLLRRR\n",
            "(RL)(RL)(LLLRRR)\n"
          ]
        }
      ],
      "source": [
        "word=input()\n",
        "n = len(word)\n",
        "left_count = 0\n",
        "right_count = 0\n",
        "output = \"\"\n",
        "start = \"\"\n",
        "for i in range(n):\n",
        "    if(right_count == 0 and left_count == 0):\n",
        "        output += \"(\" + word[i]\n",
        "        left_count += 1\n",
        "        right_count += 1\n",
        "        start = word[i]\n",
        "    elif(start == word[i]):\n",
        "        output += word[i]\n",
        "        left_count += 1\n",
        "        right_count += 1\n",
        "    elif(right_count == 1 and left_count == 1):\n",
        "        output += word[i] + \")\"\n",
        "        left_count = 0\n",
        "        right_count = 0\n",
        "    elif(right_count != 0 and left_count != 0):\n",
        "        output += word[i]\n",
        "        right_count -= 1\n",
        "        left_count -= 1\n",
        "print(output)"
      ]
    }
  ]
}