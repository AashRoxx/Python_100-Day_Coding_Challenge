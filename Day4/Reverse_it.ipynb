{
  "nbformat": 4,
  "nbformat_minor": 0,
  "metadata": {
    "colab": {
      "provenance": [],
      "authorship_tag": "ABX9TyPB+96VBAVRbj7BFeev0F7Z",
      "include_colab_link": true
    },
    "kernelspec": {
      "name": "python3",
      "display_name": "Python 3"
    },
    "language_info": {
      "name": "python"
    }
  },
  "cells": [
    {
      "cell_type": "markdown",
      "metadata": {
        "id": "view-in-github",
        "colab_type": "text"
      },
      "source": [
        "<a href=\"https://colab.research.google.com/github/AashRoxx/Python_100-Day_Coding_Challenge/blob/main/Day4/Reverse_it.ipynb\" target=\"_parent\"><img src=\"https://colab.research.google.com/assets/colab-badge.svg\" alt=\"Open In Colab\"/></a>"
      ]
    },
    {
      "cell_type": "markdown",
      "source": [
        "We are given a string s consisting of only lowercase letters of english, and a character c. Let the index of last occurence of c be idx, reverse the suffix from idx."
      ],
      "metadata": {
        "id": "zjCvp88p4P2D"
      }
    },
    {
      "cell_type": "code",
      "source": [
        "s,c=input().strip().split()\n",
        "\n",
        "# Find index of last occurrence of c in s\n",
        "idx = s.rfind(c)\n",
        "\n",
        "# Reverse the suffix from idx\n",
        "if idx != -1:\n",
        "    s = s[:idx] + s[idx:][::-1]\n",
        "\n",
        "# Output the result\n",
        "print(s.strip())"
      ],
      "metadata": {
        "colab": {
          "base_uri": "https://localhost:8080/"
        },
        "id": "b0aF3zEu4W5z",
        "outputId": "5eb40714-ae8a-4431-fd80-8b402be2c7ac"
      },
      "execution_count": 2,
      "outputs": [
        {
          "output_type": "stream",
          "name": "stdout",
          "text": [
            "fgccgfsd c\n",
            "fgcdsfgc\n"
          ]
        }
      ]
    }
  ]
}