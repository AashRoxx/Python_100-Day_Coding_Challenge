{
  "nbformat": 4,
  "nbformat_minor": 0,
  "metadata": {
    "colab": {
      "provenance": [],
      "authorship_tag": "ABX9TyPlPvFOF9Ai+xnoXkAhulsV",
      "include_colab_link": true
    },
    "kernelspec": {
      "name": "python3",
      "display_name": "Python 3"
    },
    "language_info": {
      "name": "python"
    }
  },
  "cells": [
    {
      "cell_type": "markdown",
      "metadata": {
        "id": "view-in-github",
        "colab_type": "text"
      },
      "source": [
        "<a href=\"https://colab.research.google.com/github/AashRoxx/Python_100-Day_Coding_Challenge/blob/main/Day5/caught_in_strings.ipynb\" target=\"_parent\"><img src=\"https://colab.research.google.com/assets/colab-badge.svg\" alt=\"Open In Colab\"/></a>"
      ]
    },
    {
      "cell_type": "code",
      "execution_count": 2,
      "metadata": {
        "colab": {
          "base_uri": "https://localhost:8080/"
        },
        "id": "Fdygk9UJ5FW6",
        "outputId": "ad6a3585-7c57-4621-a44d-25829614b6db"
      },
      "outputs": [
        {
          "output_type": "stream",
          "name": "stdout",
          "text": [
            "10\n",
            "abbcghccbh\n",
            "2\n"
          ]
        }
      ],
      "source": [
        "c=int(input(''))\n",
        "m=input('')\n",
        "n=0\n",
        "l=''\n",
        "for i in range(c):\n",
        "    for j in range(c):\n",
        "        k=m[i:j+1]\n",
        "        k1=k[::-1]\n",
        "        if k==k1 and len(k)>n:\n",
        "            l=k\n",
        "            n=len(k)\n",
        "print(n)"
      ]
    },
    {
      "cell_type": "markdown",
      "source": [
        "\n",
        "Ravi was playing with strings. One day he came across a string that reads the same if read from the forward to the backward or from backward to forward. On searching online, he found that these are the unique strings called palindromes.\n",
        "\n",
        "Later, he found that every string he came across had some or the other palindromic substrings. Later, he wondered how to calculate the longest palindromic substring possible in every string he came across.\n",
        "\n",
        "Given a string, help Ravi find out the length of the longest palindromic substring of that string.\n",
        "\n",
        "**Input Format**\n",
        "\n",
        "The first line contains n the length of the string\n",
        "The following line has s, the input string\n",
        "\n",
        "**Output Format**\n",
        "\n",
        "Print the length of the longest palindromic substring that is possible.\n",
        "\n",
        "**Constraints**\n",
        "\n",
        "1<=n<=1000\n",
        "\n",
        "**Sample Testcase 0**\n",
        "\n",
        "Testcase Input\n",
        "\n",
        "5\n",
        "\n",
        "abacc\n",
        "\n",
        "Testcase Output:\n",
        "3\n",
        "\n",
        "Explanation:\n",
        "The given string is abacc\n",
        "The possible palindromic substrings present are ‘a’, ‘b,’ ‘c,’ ‘aba,’ ‘cc,’ and the longest substring is ‘aba’ of length 3.\n",
        "\n",
        "**Sample Testcase 1**\n",
        "\n",
        "Testcase Input\n",
        "\n",
        "6\n",
        "\n",
        "abcdef\n",
        "\n",
        "Testcase Output:\n",
        "1\n",
        "\n",
        "Explanation:\n",
        "The given string is abcdef\n",
        "The possible palindromic substrings are ‘a’, ‘b,’ ‘c,’ ‘’d, ‘e,’ ‘f.’\n",
        "The length of the longest palindromic substring is 1\n",
        "\n",
        "\n"
      ],
      "metadata": {
        "id": "Kw2DagB_5La_"
      }
    }
  ]
}